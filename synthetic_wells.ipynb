{
 "cells": [
  {
   "cell_type": "code",
   "execution_count": null,
   "id": "1592dafe-dea4-45a1-ba00-811fbb772241",
   "metadata": {},
   "outputs": [],
   "source": [
    "import random\n",
    "import uuid\n",
    "\n",
    "import geopandas as gpd\n",
    "import pandas as pd\n",
    "import sdv\n",
    "from shapely.geometry import Point"
   ]
  },
  {
   "cell_type": "code",
   "execution_count": null,
   "id": "30c6fe30-fa6e-4817-9eb1-5716b0277268",
   "metadata": {},
   "outputs": [],
   "source": [
    "ms = gpd.read_file(\"/Users/sarvapulla/Downloads/tl_rd22_28_cousub.zip\")"
   ]
  },
  {
   "cell_type": "code",
   "execution_count": null,
   "id": "923bbcba-e56d-472d-9fd6-7072eea09abb",
   "metadata": {},
   "outputs": [],
   "source": [
    "us = gpd.read_file(\"/Users/sarvapulla/Downloads/tl_2019_us_county.zip\")"
   ]
  },
  {
   "cell_type": "code",
   "execution_count": null,
   "id": "57889f78-9550-434a-8093-4968eb8e0ba5",
   "metadata": {},
   "outputs": [],
   "source": [
    "us = us.dissolve(by=\"STATEFP\").reset_index()"
   ]
  },
  {
   "cell_type": "code",
   "execution_count": null,
   "id": "6258841b-d5f9-4f04-888f-63a6cdc6d1fc",
   "metadata": {},
   "outputs": [],
   "source": [
    "us[us.STATEFP == \"22\"].to_file(\"la.shp\", driver=\"ESRI Shapefile\")"
   ]
  },
  {
   "cell_type": "code",
   "execution_count": null,
   "id": "b5aa301a-73ef-4ecb-9d61-5c3609e89b89",
   "metadata": {},
   "outputs": [],
   "source": [
    "us[us.STATEFP == \"01\"].to_file(\"al.shp\", driver=\"ESRI Shapefile\")"
   ]
  },
  {
   "cell_type": "code",
   "execution_count": null,
   "id": "fe231d95-ba97-41a9-8430-64755d1acb9e",
   "metadata": {},
   "outputs": [],
   "source": [
    "us[us.STATEFP == \"28\"].to_file(\"ms.shp\", driver=\"ESRI Shapefile\")"
   ]
  },
  {
   "cell_type": "code",
   "execution_count": null,
   "id": "9fd4df7b-ecf0-447c-80f1-231d65ddbf3f",
   "metadata": {},
   "outputs": [],
   "source": [
    "al = gpd.read_file(\"al.zip\")"
   ]
  },
  {
   "cell_type": "code",
   "execution_count": null,
   "id": "443727c5-6271-411c-b5de-37257cff4da5",
   "metadata": {},
   "outputs": [],
   "source": [
    "def wells_output(roi, min_size=10):\n",
    "    wells = pd.read_csv(f\"../synthetic_wells/{roi}_1900-2023_wells.csv\")\n",
    "    ts = pd.read_csv(f\"../synthetic_wells/{roi}_1900-2023_TS.csv\")\n",
    "    ts_filtered = (\n",
    "        ts.groupby(\"Well_ID\").filter(lambda x: x.shape[0] >= min_size).merge(wells)\n",
    "    )\n",
    "    return ts_filtered"
   ]
  },
  {
   "cell_type": "code",
   "execution_count": null,
   "id": "2c5799df-7236-4d88-9672-b17184a2dceb",
   "metadata": {},
   "outputs": [],
   "source": [
    "region_ts = pd.concat([wells_output(roi) for roi in [\"AL\", \"MS\", \"LA\"]])"
   ]
  },
  {
   "cell_type": "code",
   "execution_count": null,
   "id": "7eaa2bca-03ea-4648-bc8b-170169b4cf7d",
   "metadata": {},
   "outputs": [],
   "source": [
    "region_ts.to_csv(\"region_ts.csv\", index=False)"
   ]
  },
  {
   "cell_type": "code",
   "execution_count": null,
   "id": "5573e0fa-c54b-4335-bf3d-76044bd2073d",
   "metadata": {},
   "outputs": [],
   "source": [
    "df = region_ts.copy()"
   ]
  },
  {
   "cell_type": "code",
   "execution_count": null,
   "id": "673e82c1-8e73-4e02-874e-adf79bc26f28",
   "metadata": {},
   "outputs": [],
   "source": [
    "df[\"Date\"] = pd.to_datetime(df[\"Date\"], format=\"mixed\")\n",
    "df = df.sort_values([\"Well_ID\", \"Date\"])\n",
    "df[\"date_diff\"] = df.groupby(\"Well_ID\")[\"Date\"].diff()"
   ]
  },
  {
   "cell_type": "code",
   "execution_count": null,
   "id": "3b5d32f5-ccfe-4c4e-aa61-99d91d91b9a1",
   "metadata": {},
   "outputs": [],
   "source": [
    "df[\"is_gap\"] = df[\"date_diff\"] > pd.Timedelta(\n",
    "    \"31 days\"\n",
    ")  # Identify gaps larger than 31 days\n",
    "df[\"chunk\"] = df.groupby(\"Well_ID\")[\"is_gap\"].cumsum()  # Create continuous chunks"
   ]
  },
  {
   "cell_type": "code",
   "execution_count": null,
   "id": "d79b8b78-7d25-4390-8f5c-6f07620be99b",
   "metadata": {},
   "outputs": [],
   "source": [
    "largest_chunk = df.groupby([\"Well_ID\", \"chunk\"]).size().reset_index(name=\"size\")\n",
    "largest_chunk = largest_chunk.loc[largest_chunk.groupby(\"Well_ID\")[\"size\"].idxmax()]\n",
    "\n",
    "# Merge with the original DataFrame to filter the largest continuous chunks\n",
    "df_filtered = pd.merge(df, largest_chunk[[\"Well_ID\", \"chunk\"]], on=[\"Well_ID\", \"chunk\"])"
   ]
  },
  {
   "cell_type": "code",
   "execution_count": null,
   "id": "4babdd50-b050-466e-9228-52b0230708c3",
   "metadata": {},
   "outputs": [],
   "source": [
    "wells_with_enough_data = df_filtered.groupby(\"Well_ID\").size() >= 10\n",
    "valid_well_ids = wells_with_enough_data[wells_with_enough_data].index\n",
    "\n",
    "df_final = df_filtered[df_filtered[\"Well_ID\"].isin(valid_well_ids)].reset_index(\n",
    "    drop=True\n",
    ")"
   ]
  },
  {
   "cell_type": "code",
   "execution_count": null,
   "id": "988858d6-c295-47d2-bc3a-0e7eb41585cd",
   "metadata": {
    "scrolled": true
   },
   "outputs": [],
   "source": [
    "len(df_final)"
   ]
  },
  {
   "cell_type": "code",
   "execution_count": null,
   "id": "9a5b39ef-cd97-4124-893d-f309338955d9",
   "metadata": {},
   "outputs": [],
   "source": [
    "# Assuming 'df' has 'well_id', 'time', and 'value' columns\n",
    "for well_id in df_final[\"Well_ID\"].unique():\n",
    "    df_final.loc[df_final[\"Well_ID\"] == well_id, \"value_smoothed\"] = (\n",
    "        df_final.loc[df_final[\"Well_ID\"] == well_id, \"GW_measurement\"]\n",
    "        .ewm(alpha=0.9)\n",
    "        .mean()\n",
    "    )"
   ]
  },
  {
   "cell_type": "code",
   "execution_count": null,
   "id": "c4aadf61-1db9-4020-ab05-50515b3585ee",
   "metadata": {},
   "outputs": [],
   "source": [
    "# Create a list to hold the resampled data for each well\n",
    "resampled_data = []\n",
    "\n",
    "# Get the unique well IDs\n",
    "well_ids = df_final[\"Well_ID\"].unique()\n",
    "\n",
    "# Resample and interpolate for each well\n",
    "for well_id in well_ids:\n",
    "    well_data = df_final[df_final[\"Well_ID\"] == well_id][\n",
    "        [\"Well_ID\", \"value_smoothed\"]\n",
    "    ].copy()  # copy to prevent SettingWithCopyWarning\n",
    "    well_data.index = df_final[df_final[\"Well_ID\"] == well_id][\n",
    "        \"Date\"\n",
    "    ]  # Set the date as the index\n",
    "    well_data_resampled = well_data.resample(\"MS\").mean()\n",
    "    resampled_data.append(well_data_resampled)\n",
    "\n",
    "# Concatenate the resampled data for all wells\n",
    "df_resampled = pd.concat(resampled_data).reset_index()"
   ]
  },
  {
   "cell_type": "code",
   "execution_count": null,
   "id": "ae4dd452-dc5f-4085-aed0-95a4697b0529",
   "metadata": {},
   "outputs": [],
   "source": [
    "region_wells = (\n",
    "    region_ts[[\"Well_ID\", \"lat_dec\", \"long_dec\"]]\n",
    "    .drop_duplicates()\n",
    "    .reset_index(drop=True)\n",
    ")\n",
    "\n",
    "region_wells = gpd.GeoDataFrame(\n",
    "    region_wells,\n",
    "    geometry=gpd.points_from_xy(region_wells.long_dec, region_wells.lat_dec),\n",
    ")"
   ]
  },
  {
   "cell_type": "code",
   "execution_count": null,
   "id": "f239af3a-2236-4892-9880-55d87a0f3611",
   "metadata": {},
   "outputs": [],
   "source": [
    "new_model_input = (\n",
    "    df_resampled.reset_index(drop=True).merge(region_wells).drop(columns=\"geometry\")\n",
    ")"
   ]
  },
  {
   "cell_type": "code",
   "execution_count": null,
   "id": "ca468726-6d09-4553-858e-cf88b307070f",
   "metadata": {},
   "outputs": [],
   "source": [
    "new_model_input.to_csv(\"cleaned_model_input.csv\", index=False)"
   ]
  },
  {
   "cell_type": "code",
   "execution_count": null,
   "id": "5e9d93fc-3be2-4996-92d8-fdd8120af78a",
   "metadata": {},
   "outputs": [],
   "source": [
    "model_input = pd.read_csv(\"final_cleaned_data.csv\")"
   ]
  },
  {
   "cell_type": "code",
   "execution_count": null,
   "id": "d1a8ce24-ea7c-4fad-aae7-80d30f7dbded",
   "metadata": {},
   "outputs": [],
   "source": [
    "model_input[\"Date\"] = pd.to_datetime(model_input.Date)"
   ]
  },
  {
   "cell_type": "code",
   "execution_count": null,
   "id": "164f2f27-cb29-4a6c-980a-051446e4883a",
   "metadata": {},
   "outputs": [],
   "source": [
    "model_input.Well_ID.nunique()"
   ]
  },
  {
   "cell_type": "code",
   "execution_count": null,
   "id": "933f1639-ed5e-4c17-b614-a654b6ec194d",
   "metadata": {},
   "outputs": [],
   "source": [
    "model_input.Well_ID.value_counts().describe()"
   ]
  },
  {
   "cell_type": "code",
   "execution_count": null,
   "id": "a75aaa0f-f12b-4a62-a7db-27ce6c8fa9c0",
   "metadata": {},
   "outputs": [],
   "source": [
    "model_input[\"Well_UUID\"] = \"ID_\" + model_input[\"Well_ID\"].astype(int).astype(str)"
   ]
  },
  {
   "cell_type": "code",
   "execution_count": null,
   "id": "a5af286c-0567-42fb-8638-19ebf5df8d60",
   "metadata": {},
   "outputs": [],
   "source": [
    "# model_input.loc[:, \"Well_UUID\"] = 1\n",
    "# model_input.loc[:, \"Well_UUID\"] = model_input.groupby(\"Well_ID\").Well_UUID.transform(lambda g: uuid.uuid4())"
   ]
  },
  {
   "cell_type": "code",
   "execution_count": null,
   "id": "e4547389-bacc-4458-ad17-fedaec5030ea",
   "metadata": {},
   "outputs": [],
   "source": [
    "wells_uuid_mapping = dict(\n",
    "    model_input[[\"Well_UUID\", \"Well_ID\"]].drop_duplicates().values\n",
    ")"
   ]
  },
  {
   "cell_type": "code",
   "execution_count": null,
   "id": "034d431f-0b8a-457f-b598-b55822cb7223",
   "metadata": {},
   "outputs": [],
   "source": [
    "list(model_input)"
   ]
  },
  {
   "cell_type": "code",
   "execution_count": null,
   "id": "731f556d-6a35-45e2-97f2-91572960ff35",
   "metadata": {},
   "outputs": [],
   "source": [
    "final_input = model_input[[\"Well_UUID\", \"Date\", \"GW_measurement_smoothed\"]]"
   ]
  },
  {
   "cell_type": "code",
   "execution_count": null,
   "id": "dee87c63-fbde-4ebb-a875-d8059f8b286a",
   "metadata": {},
   "outputs": [],
   "source": [
    "final_grace_input = grace_input[[\"Well_UUID\", \"Date\", \"GW_measurement_smoothed\"]]"
   ]
  },
  {
   "cell_type": "code",
   "execution_count": null,
   "id": "cd073c74-eff8-43c6-85aa-dcd756d53715",
   "metadata": {},
   "outputs": [],
   "source": [
    "model_input.drop(columns=[\"Well_ID\", \"lat_dec\", \"long_dec\"], inplace=True)"
   ]
  },
  {
   "cell_type": "code",
   "execution_count": null,
   "id": "42f0710a-a7ff-4337-bd02-5dfed5978612",
   "metadata": {
    "scrolled": true
   },
   "outputs": [],
   "source": [
    "model_input.columns"
   ]
  },
  {
   "cell_type": "code",
   "execution_count": null,
   "id": "80096a2f-5053-42ab-a4fc-0fbf3aa74644",
   "metadata": {},
   "outputs": [],
   "source": [
    "model_input.Well_UUID.value_counts()"
   ]
  },
  {
   "cell_type": "code",
   "execution_count": null,
   "id": "f0ef9ee0-792c-4b18-8a6f-42b821a7edc7",
   "metadata": {},
   "outputs": [],
   "source": [
    "final_input[0:10].to_csv(\"meta_input.csv\", index=False)"
   ]
  },
  {
   "cell_type": "code",
   "execution_count": null,
   "id": "b0f7b242-d130-46d0-8ac0-5b5d1aaf8e39",
   "metadata": {},
   "outputs": [],
   "source": [
    "final_input.to_csv(\"final_input.csv\", index=False)"
   ]
  },
  {
   "cell_type": "code",
   "execution_count": null,
   "id": "91b20cb4-86b9-4695-89f3-6bf62d20fb2c",
   "metadata": {},
   "outputs": [],
   "source": [
    "def random_points_in_polygon(number, polygon):\n",
    "    points = []\n",
    "    min_x, min_y, max_x, max_y = polygon.bounds\n",
    "    while len(points) < number:\n",
    "        random_point = Point(\n",
    "            [random.uniform(min_x, max_x), random.uniform(min_y, max_y)]\n",
    "        )\n",
    "        if random_point.within(polygon):\n",
    "            points.append(random_point)\n",
    "    return points"
   ]
  },
  {
   "cell_type": "code",
   "execution_count": null,
   "id": "bbcf8b55-bb0c-4491-b17f-942917a05d40",
   "metadata": {},
   "outputs": [],
   "source": [
    "sample.Well_UUID.nunique()"
   ]
  },
  {
   "cell_type": "code",
   "execution_count": null,
   "id": "a1d57e2f-d75f-4e00-a234-55042f209edb",
   "metadata": {},
   "outputs": [],
   "source": [
    "all_points = []\n",
    "for _, row in delta_gdf.iterrows():\n",
    "    all_points.extend(\n",
    "        random_points_in_polygon(sample.Well_UUID.nunique(), row[\"geometry\"])\n",
    "    )\n",
    "while len(all_points) > sample.Well_UUID.nunique():\n",
    "    all_points.pop()"
   ]
  },
  {
   "cell_type": "code",
   "execution_count": null,
   "id": "182f6ac1-758b-4bee-bf69-2e6a96aa2bc9",
   "metadata": {},
   "outputs": [],
   "source": [
    "point_data = pd.DataFrame(\n",
    "    {\n",
    "        \"Well_UUID\": sample[\"Well_UUID\"].unique().tolist(),\n",
    "        \"geometry\": all_points,\n",
    "    }\n",
    ")\n",
    "geosynth_data = pd.merge(sample, point_data, on=\"Well_UUID\", how=\"inner\")\n",
    "geosynth_data = gpd.GeoDataFrame(geosynth_data, geometry=\"geometry\")\n",
    "geosynth_data = geosynth_data.sort_values(by=[\"Well_UUID\", \"Date\"])"
   ]
  },
  {
   "cell_type": "code",
   "execution_count": null,
   "id": "0127e7e7-1fb1-4e18-b5e9-353d40b2a79e",
   "metadata": {},
   "outputs": [],
   "source": [
    "geosynth_data[\"latitude\"] = geosynth_data.geometry.y\n",
    "geosynth_data[\"longitude\"] = geosynth_data.geometry.x"
   ]
  },
  {
   "cell_type": "code",
   "execution_count": null,
   "id": "d7824ace-5109-4bb0-9739-2dbed038d6cf",
   "metadata": {},
   "outputs": [],
   "source": [
    "geosynth_data.to_csv(\"ms_delta_synthetic_wells.csv\", index=False)"
   ]
  },
  {
   "cell_type": "code",
   "execution_count": null,
   "id": "777dde33-fb7f-435c-8adb-9ee5118f37d4",
   "metadata": {},
   "outputs": [],
   "source": [
    "from sdv.metadata import SingleTableMetadata\n",
    "\n",
    "metadata = SingleTableMetadata()\n",
    "\n",
    "metadata.detect_from_dataframe(final_input)\n",
    "\n",
    "metadata.update_column(column_name=\"Well_UUID\", sdtype=\"id\")\n",
    "\n",
    "metadata.set_sequence_key(\"Well_UUID\")\n",
    "\n",
    "metadata.set_sequence_index(\"Date\")"
   ]
  },
  {
   "cell_type": "code",
   "execution_count": null,
   "id": "e7b2347e-f597-46f0-9422-5a82275d1241",
   "metadata": {
    "scrolled": true
   },
   "outputs": [],
   "source": [
    "%%time\n",
    "from sdv.sequential import PARSynthesizer\n",
    "\n",
    "# Step 1: Create the synthesizer\n",
    "synthesizer = PARSynthesizer(\n",
    "    metadata,\n",
    "    epochs=100,\n",
    "    enforce_min_max_values=True,\n",
    "    enforce_rounding=False,\n",
    "    verbose=True,\n",
    ")\n",
    "\n",
    "# Step 2: Train the synthesizer\n",
    "synthesizer.fit(final_input)"
   ]
  },
  {
   "cell_type": "code",
   "execution_count": null,
   "id": "7845f091-407b-429f-9417-a3ef6043fe37",
   "metadata": {
    "scrolled": true
   },
   "outputs": [],
   "source": [
    "sample = synthesizer.sample(num_sequences=100, sequence_length=35)"
   ]
  },
  {
   "cell_type": "code",
   "execution_count": null,
   "id": "2d46a430-6794-4b3b-87b4-febf88dc513d",
   "metadata": {},
   "outputs": [],
   "source": [
    "synthesizer.save(filepath=\"grace.pkl\")"
   ]
  },
  {
   "cell_type": "code",
   "execution_count": null,
   "id": "20f1e675-b3b4-4018-a0ab-2510819a1cfd",
   "metadata": {},
   "outputs": [],
   "source": [
    "from sdv.sequential import PARSynthesizer\n",
    "\n",
    "# synthesizer = PARSynthesizer(metadata)"
   ]
  },
  {
   "cell_type": "code",
   "execution_count": null,
   "id": "1962c7a7-e661-4b06-b652-b2a7a97f03bf",
   "metadata": {},
   "outputs": [],
   "source": [
    "from sdv.sequential import PARSynthesizer\n",
    "\n",
    "synthesizer = PARSynthesizer.load(filepath=\"grace.pkl\")"
   ]
  },
  {
   "cell_type": "code",
   "execution_count": null,
   "id": "03baada7-954a-44d8-8958-417ca2962b47",
   "metadata": {},
   "outputs": [],
   "source": [
    "from sdv.evaluation.single_table import evaluate_quality"
   ]
  },
  {
   "cell_type": "code",
   "execution_count": null,
   "id": "68dac0c6-b7f4-4835-a79d-df74a54eb19b",
   "metadata": {},
   "outputs": [],
   "source": [
    "from sdmetrics.reports.single_table import DiagnosticReport\n",
    "\n",
    "report = DiagnosticReport()"
   ]
  },
  {
   "cell_type": "code",
   "execution_count": null,
   "id": "768fc0be-42d0-4219-b446-1a3d3807528a",
   "metadata": {},
   "outputs": [],
   "source": [
    "report.generate(real_data=final_input, synthetic_data=sample, metadata=metadata)"
   ]
  },
  {
   "cell_type": "code",
   "execution_count": null,
   "id": "639f80da-6cb8-4e9f-8465-d889157c1a6c",
   "metadata": {},
   "outputs": [],
   "source": [
    "quality_report = evaluate_quality(\n",
    "    real_data=final_input, synthetic_data=sample, metadata=metadata\n",
    ")"
   ]
  },
  {
   "cell_type": "code",
   "execution_count": null,
   "id": "221c1224-967b-48a3-813e-60d31fdd330b",
   "metadata": {},
   "outputs": [],
   "source": [
    "round(quality_report.get_score() * 100)"
   ]
  },
  {
   "cell_type": "code",
   "execution_count": null,
   "id": "2c27966f-dc25-4747-9691-c57e201385cc",
   "metadata": {},
   "outputs": [],
   "source": [
    "# input_metadata = {\n",
    "#     \"METADATA_SPEC_VERSION\": \"SINGLE_TABLE_V1\",\n",
    "#     \"sequence_key\": \"Well_ID\",\n",
    "#     \"sequence_index\": \"Date\",\n",
    "#     \"columns\": {\n",
    "#         \"Well_ID\": {\"sdtype\": \"id\"},\n",
    "#         \"Date\": {\"sdtype\": \"datetime\", \"datetime_format\": \"%m-%d-%Y\"},\n",
    "#         \"value_smoothed\": {\"sdtype\": \"float\"},\n",
    "#         \"lat_dec\": {\"sdtype\": \"float\"},\n",
    "#         \"long_dec\": {\"sdtype\": \"float\"},\n",
    "#     },\n",
    "# }"
   ]
  }
 ],
 "metadata": {
  "kernelspec": {
   "display_name": "Python 3 (ipykernel)",
   "language": "python",
   "name": "python3"
  },
  "language_info": {
   "codemirror_mode": {
    "name": "ipython",
    "version": 3
   },
   "file_extension": ".py",
   "mimetype": "text/x-python",
   "name": "python",
   "nbconvert_exporter": "python",
   "pygments_lexer": "ipython3",
   "version": "3.10.12"
  }
 },
 "nbformat": 4,
 "nbformat_minor": 5
}
